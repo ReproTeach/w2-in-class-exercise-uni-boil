{
 "cells": [
  {
   "cell_type": "code",
   "execution_count": null,
   "id": "edd2c7cf-d817-455f-9f0a-3d46a6918b9a",
   "metadata": {},
   "outputs": [],
   "source": [
    "print(\"Leslie Cohrt\", \"Cisco Yang\", \"Zhukang Qin\", \"Wenbo Wei\", \"Ashley Wang\""
   ]
  },
  {
   "cell_type": "code",
   "execution_count": 4,
   "id": "2998386f-88d4-4568-9c4e-9c03358d9a8b",
   "metadata": {
    "tags": []
   },
   "outputs": [
    {
     "name": "stdout",
     "output_type": "stream",
     "text": [
      "11\n"
     ]
    }
   ],
   "source": [
    "def max_value (numbers):\n",
    "    return max(numbers)\n",
    "my_list=[10,11,9,5,0]\n",
    "max_num= max_value(my_list)\n",
    "print (max_num)"
   ]
  },
  {
   "cell_type": "code",
   "execution_count": null,
   "id": "782c8134-2b2c-4222-ac08-a3e29493dea4",
   "metadata": {},
   "outputs": [],
   "source": []
  }
 ],
 "metadata": {
  "kernelspec": {
   "display_name": "Python 3 (ipykernel)",
   "language": "python",
   "name": "python3"
  },
  "language_info": {
   "codemirror_mode": {
    "name": "ipython",
    "version": 3
   },
   "file_extension": ".py",
   "mimetype": "text/x-python",
   "name": "python",
   "nbconvert_exporter": "python",
   "pygments_lexer": "ipython3",
   "version": "3.10.9"
  }
 },
 "nbformat": 4,
 "nbformat_minor": 5
}
